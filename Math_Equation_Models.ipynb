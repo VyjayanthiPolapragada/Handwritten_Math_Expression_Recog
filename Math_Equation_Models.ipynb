{
 "cells": [
  {
   "cell_type": "markdown",
   "id": "6d88ccf7-1905-4237-b22b-f82d96c01d50",
   "metadata": {},
   "source": [
    "## Data Preprocessing"
   ]
  },
  {
   "cell_type": "markdown",
   "id": "f6dd023b-b032-4d79-9ce4-f7eba996155f",
   "metadata": {},
   "source": [
    "#### Combining the Dataset "
   ]
  },
  {
   "cell_type": "code",
   "execution_count": 43,
   "id": "10677028-a987-40ff-a8b1-35a4f251c06b",
   "metadata": {},
   "outputs": [
    {
     "name": "stdout",
     "output_type": "stream",
     "text": [
      "✅ Total samples with images: 10550\n",
      "                                          image_path  \\\n",
      "0  /Users/vyjayanthi/Desktop/Python codes/Math Eq...   \n",
      "1  /Users/vyjayanthi/Desktop/Python codes/Math Eq...   \n",
      "2  /Users/vyjayanthi/Desktop/Python codes/Math Eq...   \n",
      "3  /Users/vyjayanthi/Desktop/Python codes/Math Eq...   \n",
      "4  /Users/vyjayanthi/Desktop/Python codes/Math Eq...   \n",
      "\n",
      "                                               label  \n",
      "0  $ A ^ {5} = \\begin {pmatrix} 3 & 2 \\\\ 1 & 1 \\e...  \n",
      "1  $ \\begin {pmatrix} 1 & 1 & 3 \\\\ 0 & 1 & 4 \\end...  \n",
      "2  $ \\begin {pmatrix} a & 0 \\\\ b & 0 \\end {pmatri...  \n",
      "3  $ M = \\begin {pmatrix} 1 & 2 & 3 \\\\ 0 & 4 & 5 ...  \n",
      "4  $ A = \\begin {pmatrix} 1 & 2 \\\\ 0 & - 2 \\end {...  \n"
     ]
    }
   ],
   "source": [
    "import os\n",
    "import pandas as pd\n",
    "\n",
    "# Use current directory as base\n",
    "base_dir = os.getcwd()\n",
    "\n",
    "# List of label CSVs\n",
    "csv_files = [\n",
    "    \"Matrices_Test_2014_labels.csv\",\n",
    "    \"Matrices_Train_2014_labels.csv\",\n",
    "    \"train_InkML_2013_labels.csv\",\n",
    "    \"trainData_2012_part1_labels.csv\",\n",
    "    \"trainData_2012_part2_labels.csv\",\n",
    "]\n",
    "\n",
    "# Combine all into one DataFrame\n",
    "df_list = []\n",
    "for csv_name in csv_files:\n",
    "    df = pd.read_csv(csv_name)\n",
    "    \n",
    "    # Prepend full base path to image_path\n",
    "    df[\"image_path\"] = df[\"image_path\"].apply(\n",
    "        lambda x: os.path.join(base_dir, x)\n",
    "    )\n",
    "    \n",
    "    # Optional: Keep only if image exists\n",
    "    df = df[df[\"image_path\"].apply(os.path.exists)]\n",
    "\n",
    "    # Rename latex column to label\n",
    "    df = df.rename(columns={\"latex\": \"label\"})\n",
    "    df_list.append(df)\n",
    "\n",
    "# Combine all CSVs into one big DataFrame\n",
    "full_df = pd.concat(df_list, ignore_index=True)\n",
    "\n",
    "print(f\"✅ Total samples with images: {len(full_df)}\")\n",
    "print(full_df.head())"
   ]
  },
  {
   "cell_type": "markdown",
   "id": "e53318f6-a9f6-4aa1-a287-63905a3882c1",
   "metadata": {},
   "source": [
    "#### Tokenize LaTeX Labels"
   ]
  },
  {
   "cell_type": "code",
   "execution_count": 45,
   "id": "4557a05d-90d7-46e8-92bc-03e75922771f",
   "metadata": {},
   "outputs": [],
   "source": [
    "import re\n",
    "\n",
    "def latex_tokenizer(expr):\n",
    "    pattern = r'(\\\\[a-zA-Z]+|[{}_^]|[0-9]+|[a-zA-Z]|[\\+\\-\\*/=<>.,()])'\n",
    "    return re.findall(pattern, expr)\n"
   ]
  },
  {
   "cell_type": "markdown",
   "id": "5f46e4f3-8fec-4615-8a92-42a37e9c1a3d",
   "metadata": {},
   "source": [
    "#### Build Vocabulary"
   ]
  },
  {
   "cell_type": "code",
   "execution_count": 47,
   "id": "5ccdd376-4ddb-4b79-aa94-559b08febd18",
   "metadata": {},
   "outputs": [
    {
     "name": "stdout",
     "output_type": "stream",
     "text": [
      "✅ Vocab size: 531\n"
     ]
    }
   ],
   "source": [
    "from collections import Counter\n",
    "\n",
    "# Special tokens\n",
    "special_tokens = [\"[PAD]\", \"[SOS]\", \"[EOS]\", \"[UNK]\"]\n",
    "token_counter = Counter()\n",
    "\n",
    "# Tokenize and count\n",
    "for label in full_df[\"label\"]:\n",
    "    tokens = latex_tokenizer(label)\n",
    "    token_counter.update(tokens)\n",
    "\n",
    "# Build vocab\n",
    "all_tokens = special_tokens + sorted(token_counter)\n",
    "token_to_id = {token: idx for idx, token in enumerate(all_tokens)}\n",
    "id_to_token = {idx: token for token, idx in token_to_id.items()}\n",
    "\n",
    "print(f\"✅ Vocab size: {len(token_to_id)}\")\n"
   ]
  },
  {
   "cell_type": "markdown",
   "id": "a554202b-3089-4a84-b479-efceabb6751f",
   "metadata": {},
   "source": [
    "#### Add Tokenized ID to the dataframe"
   ]
  },
  {
   "cell_type": "code",
   "execution_count": 49,
   "id": "43994fe0-ee04-40c8-ba1e-f8eadf378e28",
   "metadata": {},
   "outputs": [
    {
     "data": {
      "text/html": [
       "<div>\n",
       "<style scoped>\n",
       "    .dataframe tbody tr th:only-of-type {\n",
       "        vertical-align: middle;\n",
       "    }\n",
       "\n",
       "    .dataframe tbody tr th {\n",
       "        vertical-align: top;\n",
       "    }\n",
       "\n",
       "    .dataframe thead th {\n",
       "        text-align: right;\n",
       "    }\n",
       "</style>\n",
       "<table border=\"1\" class=\"dataframe\">\n",
       "  <thead>\n",
       "    <tr style=\"text-align: right;\">\n",
       "      <th></th>\n",
       "      <th>label</th>\n",
       "      <th>token_ids</th>\n",
       "    </tr>\n",
       "  </thead>\n",
       "  <tbody>\n",
       "    <tr>\n",
       "      <th>0</th>\n",
       "      <td>$ A ^ {5} = \\begin {pmatrix} 3 &amp; 2 \\\\ 1 &amp; 1 \\e...</td>\n",
       "      <td>[1, 428, 501, 529, 305, 530, 426, 452, 529, 51...</td>\n",
       "    </tr>\n",
       "    <tr>\n",
       "      <th>1</th>\n",
       "      <td>$ \\begin {pmatrix} 1 &amp; 1 &amp; 3 \\\\ 0 &amp; 1 &amp; 4 \\end...</td>\n",
       "      <td>[1, 452, 529, 518, 515, 503, 522, 520, 511, 52...</td>\n",
       "    </tr>\n",
       "    <tr>\n",
       "      <th>2</th>\n",
       "      <td>$ \\begin {pmatrix} a &amp; 0 \\\\ b &amp; 0 \\end {pmatri...</td>\n",
       "      <td>[1, 452, 529, 518, 515, 503, 522, 520, 511, 52...</td>\n",
       "    </tr>\n",
       "    <tr>\n",
       "      <th>3</th>\n",
       "      <td>$ M = \\begin {pmatrix} 1 &amp; 2 &amp; 3 \\\\ 0 &amp; 4 &amp; 5 ...</td>\n",
       "      <td>[1, 437, 426, 452, 529, 518, 515, 503, 522, 52...</td>\n",
       "    </tr>\n",
       "    <tr>\n",
       "      <th>4</th>\n",
       "      <td>$ A = \\begin {pmatrix} 1 &amp; 2 \\\\ 0 &amp; - 2 \\end {...</td>\n",
       "      <td>[1, 428, 426, 452, 529, 518, 515, 503, 522, 52...</td>\n",
       "    </tr>\n",
       "  </tbody>\n",
       "</table>\n",
       "</div>"
      ],
      "text/plain": [
       "                                               label  \\\n",
       "0  $ A ^ {5} = \\begin {pmatrix} 3 & 2 \\\\ 1 & 1 \\e...   \n",
       "1  $ \\begin {pmatrix} 1 & 1 & 3 \\\\ 0 & 1 & 4 \\end...   \n",
       "2  $ \\begin {pmatrix} a & 0 \\\\ b & 0 \\end {pmatri...   \n",
       "3  $ M = \\begin {pmatrix} 1 & 2 & 3 \\\\ 0 & 4 & 5 ...   \n",
       "4  $ A = \\begin {pmatrix} 1 & 2 \\\\ 0 & - 2 \\end {...   \n",
       "\n",
       "                                           token_ids  \n",
       "0  [1, 428, 501, 529, 305, 530, 426, 452, 529, 51...  \n",
       "1  [1, 452, 529, 518, 515, 503, 522, 520, 511, 52...  \n",
       "2  [1, 452, 529, 518, 515, 503, 522, 520, 511, 52...  \n",
       "3  [1, 437, 426, 452, 529, 518, 515, 503, 522, 52...  \n",
       "4  [1, 428, 426, 452, 529, 518, 515, 503, 522, 52...  "
      ]
     },
     "execution_count": 49,
     "metadata": {},
     "output_type": "execute_result"
    }
   ],
   "source": [
    "def tokenize_latex(label, token_to_id):\n",
    "    tokens = latex_tokenizer(label)\n",
    "    token_ids = [token_to_id[\"[SOS]\"]]\n",
    "    for token in tokens:\n",
    "        token_ids.append(token_to_id.get(token, token_to_id[\"[UNK]\"]))\n",
    "    token_ids.append(token_to_id[\"[EOS]\"])\n",
    "    return token_ids\n",
    "\n",
    "# Add a column with token sequences\n",
    "full_df[\"token_ids\"] = full_df[\"label\"].apply(lambda x: tokenize_latex(x, token_to_id))\n",
    "\n",
    "# Preview\n",
    "full_df[[\"label\", \"token_ids\"]].head()\n"
   ]
  },
  {
   "cell_type": "markdown",
   "id": "be1608be-cc4e-43fb-a822-f79e5e45268b",
   "metadata": {},
   "source": [
    "#### Defining a Custom PyTorch Dataset "
   ]
  },
  {
   "cell_type": "code",
   "execution_count": 51,
   "id": "cc6a3564-567d-46b6-ae4e-355539cf6cde",
   "metadata": {},
   "outputs": [],
   "source": [
    "from torch.utils.data import Dataset\n",
    "from PIL import Image\n",
    "import torch\n",
    "\n",
    "class EquationDataset(Dataset):\n",
    "    def __init__(self, dataframe, transform, token_pad_id):\n",
    "        self.df = dataframe\n",
    "        self.transform = transform\n",
    "        self.token_pad_id = token_pad_id\n",
    "\n",
    "    def __len__(self):\n",
    "        return len(self.df)\n",
    "\n",
    "    def __getitem__(self, idx):\n",
    "        img_path = self.df.iloc[idx]['image_path']\n",
    "        label_ids = self.df.iloc[idx]['token_ids']\n",
    "\n",
    "        image = Image.open(img_path).convert(\"L\")  # Grayscale\n",
    "        image = self.transform(image)\n",
    "\n",
    "        return {\n",
    "            \"image\": image,\n",
    "            \"label_ids\": torch.tensor(label_ids, dtype=torch.long),\n",
    "            \"length\": len(label_ids)\n",
    "        }\n",
    "\n",
    "# Padding collate function\n",
    "def collate_fn(batch):\n",
    "    images = [item[\"image\"] for item in batch]\n",
    "    labels = [item[\"label_ids\"] for item in batch]\n",
    "    lengths = [item[\"length\"] for item in batch]\n",
    "\n",
    "    images = torch.stack(images)\n",
    "    padded_labels = torch.nn.utils.rnn.pad_sequence(labels, batch_first=True, padding_value=token_to_id[\"[PAD]\"])\n",
    "\n",
    "    return {\n",
    "        \"images\": images,\n",
    "        \"label_ids\": padded_labels,\n",
    "        \"lengths\": torch.tensor(lengths, dtype=torch.long)\n",
    "    }\n"
   ]
  },
  {
   "cell_type": "markdown",
   "id": "636796a1-90c5-4be0-8f35-96373d2b3db6",
   "metadata": {},
   "source": [
    "#### Creating DataLoaders"
   ]
  },
  {
   "cell_type": "code",
   "execution_count": 53,
   "id": "b80525d6-3c21-4aea-a5a5-039f829bea67",
   "metadata": {},
   "outputs": [
    {
     "name": "stdout",
     "output_type": "stream",
     "text": [
      "✅ Train: 8440 | Val: 1055 | Test: 1055\n"
     ]
    }
   ],
   "source": [
    "from sklearn.model_selection import train_test_split\n",
    "\n",
    "# First split into train and temp (val+test)\n",
    "train_df, temp_df = train_test_split(full_df, test_size=0.2, random_state=42)\n",
    "\n",
    "# Then split temp into val and test\n",
    "val_df, test_df = train_test_split(temp_df, test_size=0.5, random_state=42)\n",
    "\n",
    "print(f\"✅ Train: {len(train_df)} | Val: {len(val_df)} | Test: {len(test_df)}\")\n"
   ]
  },
  {
   "cell_type": "code",
   "execution_count": 55,
   "id": "1f82e92d-e193-4bc9-8a9c-4ac01e8f59bc",
   "metadata": {},
   "outputs": [],
   "source": [
    "from torchvision import transforms\n",
    "\n",
    "transform = transforms.Compose([\n",
    "    transforms.Resize((64, 256)),  # Wider images for equations\n",
    "    transforms.ToTensor(),\n",
    "    transforms.Normalize((0.5,), (0.5,))\n",
    "])\n"
   ]
  },
  {
   "cell_type": "code",
   "execution_count": 57,
   "id": "3e1468f7-9b3a-4526-a841-fc1b454b58a8",
   "metadata": {},
   "outputs": [],
   "source": [
    "from torch.utils.data import DataLoader\n",
    "\n",
    "# Padding ID for your vocabulary\n",
    "pad_id = token_to_id[\"[PAD]\"]\n",
    "\n",
    "# Datasets\n",
    "train_dataset = EquationDataset(train_df, transform=transform, token_pad_id=pad_id)\n",
    "val_dataset = EquationDataset(val_df, transform=transform, token_pad_id=pad_id)\n",
    "test_dataset = EquationDataset(test_df, transform=transform, token_pad_id=pad_id)\n",
    "\n",
    "# Loaders\n",
    "train_loader = DataLoader(train_dataset, batch_size=16, shuffle=True, collate_fn=collate_fn)\n",
    "val_loader = DataLoader(val_dataset, batch_size=16, shuffle=False, collate_fn=collate_fn)\n",
    "test_loader = DataLoader(test_dataset, batch_size=16, shuffle=False, collate_fn=collate_fn)\n"
   ]
  },
  {
   "cell_type": "markdown",
   "id": "53fd7159-0c4f-4d5f-a2d4-90a512091fe6",
   "metadata": {},
   "source": [
    "## Building the Model CNN+LSTM"
   ]
  },
  {
   "cell_type": "code",
   "execution_count": 61,
   "id": "4d71a624-b671-426d-9098-6e1786287a4f",
   "metadata": {},
   "outputs": [],
   "source": [
    "#encoder definition\n",
    "\n",
    "import torch.nn as nn\n",
    "import torch\n",
    "\n",
    "class CNNEncoder(nn.Module):\n",
    "    def __init__(self, encoded_dim=512):\n",
    "        super(CNNEncoder, self).__init__()\n",
    "        self.encoder = nn.Sequential(\n",
    "            nn.Conv2d(1, 64, kernel_size=3, padding=1),  # [B, 64, 64, 256]\n",
    "            nn.ReLU(),\n",
    "            nn.MaxPool2d(2, 2),  # [B, 64, 32, 128]\n",
    "\n",
    "            nn.Conv2d(64, 128, kernel_size=3, padding=1),  # [B, 128, 32, 128]\n",
    "            nn.ReLU(),\n",
    "            nn.MaxPool2d(2, 2),  # [B, 128, 16, 64]\n",
    "\n",
    "            nn.Conv2d(128, 256, kernel_size=3, padding=1),  # [B, 256, 16, 64]\n",
    "            nn.ReLU(),\n",
    "            nn.MaxPool2d(2, 2),  # [B, 256, 8, 32]\n",
    "\n",
    "            nn.Conv2d(256, encoded_dim, kernel_size=3, padding=1),  # [B, 512, 8, 32]\n",
    "            nn.ReLU(),\n",
    "        )\n",
    "\n",
    "    def forward(self, x):\n",
    "        x = self.encoder(x)                     # [B, C, H, W]\n",
    "        x = x.permute(0, 2, 3, 1)               # [B, H, W, C]\n",
    "        x = x.view(x.size(0), -1, x.size(3))    # [B, T, C]\n",
    "        return x  # sequence length T = H * W\n"
   ]
  },
  {
   "cell_type": "code",
   "execution_count": 63,
   "id": "b73d858b-6edc-4141-82d7-9347423ed8ff",
   "metadata": {},
   "outputs": [],
   "source": [
    "#decoder with lstm\n",
    "\n",
    "class DecoderLSTM(nn.Module):\n",
    "    def __init__(self, vocab_size, embed_dim=256, hidden_dim=512):\n",
    "        super(DecoderLSTM, self).__init__()\n",
    "        self.embedding = nn.Embedding(vocab_size, embed_dim)\n",
    "        self.lstm = nn.LSTM(embed_dim, hidden_dim, batch_first=True)\n",
    "        self.fc_out = nn.Linear(hidden_dim, vocab_size)\n",
    "\n",
    "    def forward(self, target_seq):\n",
    "        embedded = self.embedding(target_seq)      # [B, T, embed_dim]\n",
    "        output, _ = self.lstm(embedded)            # [B, T, hidden]\n",
    "        logits = self.fc_out(output)               # [B, T, vocab]\n",
    "        return logits\n"
   ]
  },
  {
   "cell_type": "code",
   "execution_count": 32,
   "id": "6f51986c-948a-40ae-b61d-c854672e6963",
   "metadata": {},
   "outputs": [],
   "source": [
    "#combining both\n",
    "\n",
    "class EquationModel(nn.Module):\n",
    "    def __init__(self, vocab_size):\n",
    "        super(EquationModel, self).__init__()\n",
    "        self.encoder = CNNEncoder(encoded_dim=512)\n",
    "        self.decoder = DecoderLSTM(vocab_size=vocab_size)\n",
    "\n",
    "    def forward(self, images, target_seq):\n",
    "        # Encoder image → feature sequence (not used yet, could be with attention)\n",
    "        _ = self.encoder(images)  \n",
    "        # Decoder does token prediction (teacher forcing)\n",
    "        logits = self.decoder(target_seq)\n",
    "        return logits\n"
   ]
  },
  {
   "cell_type": "markdown",
   "id": "3e3a3d8e-46c3-48ab-9f9f-b49e3b5d4feb",
   "metadata": {},
   "source": [
    "Training Loop"
   ]
  },
  {
   "cell_type": "code",
   "execution_count": 39,
   "id": "0c00cb05-1551-4e07-8c73-e78f9b4ca819",
   "metadata": {},
   "outputs": [],
   "source": [
    "#Model initialisation\n",
    "vocab_size = len(token_to_id)\n",
    "device = torch.device(\"cuda\" if torch.cuda.is_available() else \"cpu\")\n",
    "\n",
    "model = EquationModel(vocab_size).to(device)\n",
    "criterion = nn.CrossEntropyLoss(ignore_index=token_to_id[\"[PAD]\"])\n",
    "optimizer = torch.optim.Adam(model.parameters(), lr=1e-3)\n"
   ]
  },
  {
   "cell_type": "code",
   "execution_count": 41,
   "id": "187186c5-5d6f-4833-96d2-a0f1522cfc93",
   "metadata": {},
   "outputs": [],
   "source": [
    "def train_one_epoch(model, dataloader, optimizer, criterion, device):\n",
    "    model.train()\n",
    "    epoch_loss = 0\n",
    "\n",
    "    for batch in dataloader:\n",
    "        images = batch[\"images\"].to(device)                   # [B, 1, H, W]\n",
    "        target_seq = batch[\"label_ids\"].to(device)            # [B, T]\n",
    "\n",
    "        optimizer.zero_grad()\n",
    "\n",
    "        # Forward pass — use target sequence (teacher forcing)\n",
    "        logits = model(images, target_seq[:, :-1])            # Predict next token\n",
    "        target = target_seq[:, 1:]                            # Shifted target\n",
    "\n",
    "        loss = criterion(logits.reshape(-1, logits.size(-1)), target.reshape(-1))\n",
    "        loss.backward()\n",
    "        optimizer.step()\n",
    "        epoch_loss += loss.item()\n",
    "\n",
    "    return epoch_loss / len(dataloader)\n"
   ]
  },
  {
   "cell_type": "code",
   "execution_count": 43,
   "id": "d35f0d07-1448-42f1-89a5-76c89998d1b2",
   "metadata": {},
   "outputs": [],
   "source": [
    "def evaluate(model, dataloader, criterion, device):\n",
    "    model.eval()\n",
    "    val_loss = 0\n",
    "\n",
    "    with torch.no_grad():\n",
    "        for batch in dataloader:\n",
    "            images = batch[\"images\"].to(device)\n",
    "            target_seq = batch[\"label_ids\"].to(device)\n",
    "\n",
    "            logits = model(images, target_seq[:, :-1])\n",
    "            target = target_seq[:, 1:]\n",
    "\n",
    "            loss = criterion(logits.reshape(-1, logits.size(-1)), target.reshape(-1))\n",
    "            val_loss += loss.item()\n",
    "\n",
    "    return val_loss / len(dataloader)\n"
   ]
  },
  {
   "cell_type": "code",
   "execution_count": 45,
   "id": "94ba7c58-d699-4db8-9f03-d31b3c8fed22",
   "metadata": {},
   "outputs": [
    {
     "name": "stdout",
     "output_type": "stream",
     "text": [
      "📚 Epoch 01 | Train Loss: 2.1123 | Val Loss: 1.5022\n",
      "📚 Epoch 02 | Train Loss: 1.3096 | Val Loss: 1.2195\n",
      "📚 Epoch 03 | Train Loss: 1.0821 | Val Loss: 1.1130\n",
      "📚 Epoch 04 | Train Loss: 0.9631 | Val Loss: 1.0690\n",
      "📚 Epoch 05 | Train Loss: 0.8898 | Val Loss: 1.0590\n",
      "📚 Epoch 06 | Train Loss: 0.8293 | Val Loss: 1.0496\n",
      "📚 Epoch 07 | Train Loss: 0.7784 | Val Loss: 1.0607\n",
      "📚 Epoch 08 | Train Loss: 0.7353 | Val Loss: 1.0608\n",
      "📚 Epoch 09 | Train Loss: 0.6946 | Val Loss: 1.0575\n",
      "📚 Epoch 10 | Train Loss: 0.6664 | Val Loss: 1.0786\n"
     ]
    }
   ],
   "source": [
    "num_epochs = 10\n",
    "\n",
    "for epoch in range(1, num_epochs + 1):\n",
    "    train_loss = train_one_epoch(model, train_loader, optimizer, criterion, device)\n",
    "    val_loss = evaluate(model, val_loader, criterion, device)\n",
    "\n",
    "    print(f\"📚 Epoch {epoch:02} | Train Loss: {train_loss:.4f} | Val Loss: {val_loss:.4f}\")\n"
   ]
  },
  {
   "cell_type": "code",
   "execution_count": 46,
   "id": "5f4d6b67-4a69-4a74-9090-3a85ca8bb06d",
   "metadata": {},
   "outputs": [],
   "source": [
    "#Adding Inference Function \n",
    "def predict_latex(model, image_tensor, max_len=100):\n",
    "    model.eval()\n",
    "    image_tensor = image_tensor.unsqueeze(0).to(device)  # Add batch dim\n",
    "\n",
    "    with torch.no_grad():\n",
    "        _ = model.encoder(image_tensor)  # Not used for now\n",
    "\n",
    "        generated = [token_to_id[\"[SOS]\"]]\n",
    "        for _ in range(max_len):\n",
    "            inp = torch.tensor(generated).unsqueeze(0).to(device)  # [1, T]\n",
    "            logits = model.decoder(inp)\n",
    "            next_token = logits[0, -1].argmax().item()\n",
    "\n",
    "            if next_token == token_to_id[\"[EOS]\"]:\n",
    "                break\n",
    "            generated.append(next_token)\n",
    "\n",
    "    return ' '.join([id_to_token[tok] for tok in generated[1:]])  # remove SOS\n"
   ]
  },
  {
   "cell_type": "code",
   "execution_count": 47,
   "id": "10ba1a4d-5ed4-4fa9-a7b7-92761e2885c1",
   "metadata": {},
   "outputs": [
    {
     "name": "stdout",
     "output_type": "stream",
     "text": [
      "🖼️ Predicted: { \\mbox { z } } ^ { \\frac { \\mbox { E } } { \\mbox { z } } }\n",
      "✅ Ground truth: tensor([  1, 475, 502, 181, 471,   4, 181, 501, 305, 487,   5, 426, 305,   2])\n"
     ]
    }
   ],
   "source": [
    "sample = test_dataset[0]\n",
    "latex_prediction = predict_latex(model, sample['image'])\n",
    "print(\"🖼️ Predicted:\", latex_prediction)\n",
    "print(\"✅ Ground truth:\", sample['label_ids'])\n"
   ]
  },
  {
   "cell_type": "code",
   "execution_count": 53,
   "id": "b2ff3dbd-6dff-4ccb-9297-877014731f9b",
   "metadata": {},
   "outputs": [
    {
     "name": "stdout",
     "output_type": "stream",
     "text": [
      "✅ Ground truth decoded: \\log _ 2 \\left ( 2 ^ 5 \\right ) = 5\n"
     ]
    }
   ],
   "source": [
    "decoded_true = [id_to_token[t.item()] for t in sample['label_ids'] if t not in [token_to_id[\"[PAD]\"], token_to_id[\"[SOS]\"], token_to_id[\"[EOS]\"]]]\n",
    "print(\"✅ Ground truth decoded:\", ' '.join(decoded_true))\n"
   ]
  },
  {
   "cell_type": "markdown",
   "id": "91844dcf-948c-4c84-9b94-ce61c9326a26",
   "metadata": {},
   "source": [
    "### Model 2: CNNResNET18 + Decoder Transformer "
   ]
  },
  {
   "cell_type": "code",
   "execution_count": 67,
   "id": "b5d694fc-f4ca-41bb-8459-a246c643359c",
   "metadata": {},
   "outputs": [],
   "source": [
    "#CNN Encoder\n",
    "import torch.nn as nn\n",
    "from torchvision.models import resnet18\n",
    "\n",
    "class ResNetEncoder(nn.Module):\n",
    "    def __init__(self, output_dim=512):\n",
    "        super(ResNetEncoder, self).__init__()\n",
    "        resnet = resnet18(weights=None)\n",
    "        self.backbone = nn.Sequential(*list(resnet.children())[:-2])  # remove FC + AvgPool\n",
    "        self.conv = nn.Conv2d(512, output_dim, kernel_size=1)  # optional projection\n",
    "\n",
    "    def forward(self, x):  # x: [B, 1, H, W]\n",
    "        x = x.repeat(1, 3, 1, 1)  # convert grayscale to 3-channel\n",
    "        features = self.backbone(x)  # [B, 512, H', W']\n",
    "        features = self.conv(features)  # [B, output_dim, H', W']\n",
    "        B, C, H, W = features.shape\n",
    "        return features.permute(0, 2, 3, 1).reshape(B, H*W, C)  # [B, T, C]\n"
   ]
  },
  {
   "cell_type": "code",
   "execution_count": 69,
   "id": "08ec2e7e-c897-49a5-be39-c923c35c2584",
   "metadata": {},
   "outputs": [],
   "source": [
    "#Positional Encoding\n",
    "import math\n",
    "\n",
    "class PositionalEncoding(nn.Module):\n",
    "    def __init__(self, dim_model, max_len=5000):\n",
    "        super(PositionalEncoding, self).__init__()\n",
    "        pe = torch.zeros(max_len, dim_model)\n",
    "        position = torch.arange(0, max_len, dtype=torch.float).unsqueeze(1)\n",
    "        div_term = torch.exp(torch.arange(0, dim_model, 2).float() * (-math.log(10000.0) / dim_model))\n",
    "\n",
    "        pe[:, 0::2] = torch.sin(position * div_term)\n",
    "        pe[:, 1::2] = torch.cos(position * div_term)\n",
    "\n",
    "        pe = pe.unsqueeze(0)  # [1, max_len, dim_model]\n",
    "        self.register_buffer('pe', pe)\n",
    "\n",
    "    def forward(self, x):  # [B, T, C]\n",
    "        x = x + self.pe[:, :x.size(1)]\n",
    "        return x\n"
   ]
  },
  {
   "cell_type": "code",
   "execution_count": 81,
   "id": "961522bc-caaf-4366-8df1-4bc103a1d673",
   "metadata": {},
   "outputs": [],
   "source": [
    "#Transformer\n",
    "class TransformerEquationModel(nn.Module):\n",
    "    def __init__(self, vocab_size, d_model=512, nhead=8, num_layers=4, dropout=0.1, max_len=300):\n",
    "        super().__init__()\n",
    "        self.encoder = ResNetEncoder(output_dim=d_model)\n",
    "\n",
    "        self.embedding = nn.Embedding(vocab_size, d_model)\n",
    "        self.pos_enc = PositionalEncoding(d_model, max_len)\n",
    "\n",
    "        decoder_layer = nn.TransformerDecoderLayer(d_model=d_model, nhead=nhead, dropout=dropout, batch_first=True)\n",
    "        self.transformer_decoder = nn.TransformerDecoder(decoder_layer, num_layers=num_layers)\n",
    "\n",
    "        self.output_proj = nn.Linear(d_model, vocab_size)\n",
    "\n",
    "    def forward(self, images, tgt_seq):\n",
    "        enc = self.encoder(images)  # [B, T_img, C]\n",
    "        tgt_emb = self.embedding(tgt_seq)  # [B, T_text, C]\n",
    "        tgt_emb = self.pos_enc(tgt_emb)\n",
    "\n",
    "        tgt_mask = nn.Transformer.generate_square_subsequent_mask(tgt_seq.size(1)).to(images.device)\n",
    "\n",
    "        out = self.transformer_decoder(tgt=tgt_emb, memory=enc, tgt_mask=tgt_mask)\n",
    "        logits = self.output_proj(out)  # [B, T, vocab]\n",
    "        return logits\n"
   ]
  },
  {
   "cell_type": "code",
   "execution_count": 83,
   "id": "5ba1bcf7-23e5-4566-b063-dabc78e4534f",
   "metadata": {},
   "outputs": [
    {
     "data": {
      "text/plain": [
       "TransformerEquationModel(\n",
       "  (encoder): ResNetEncoder(\n",
       "    (backbone): Sequential(\n",
       "      (0): Conv2d(3, 64, kernel_size=(7, 7), stride=(2, 2), padding=(3, 3), bias=False)\n",
       "      (1): BatchNorm2d(64, eps=1e-05, momentum=0.1, affine=True, track_running_stats=True)\n",
       "      (2): ReLU(inplace=True)\n",
       "      (3): MaxPool2d(kernel_size=3, stride=2, padding=1, dilation=1, ceil_mode=False)\n",
       "      (4): Sequential(\n",
       "        (0): BasicBlock(\n",
       "          (conv1): Conv2d(64, 64, kernel_size=(3, 3), stride=(1, 1), padding=(1, 1), bias=False)\n",
       "          (bn1): BatchNorm2d(64, eps=1e-05, momentum=0.1, affine=True, track_running_stats=True)\n",
       "          (relu): ReLU(inplace=True)\n",
       "          (conv2): Conv2d(64, 64, kernel_size=(3, 3), stride=(1, 1), padding=(1, 1), bias=False)\n",
       "          (bn2): BatchNorm2d(64, eps=1e-05, momentum=0.1, affine=True, track_running_stats=True)\n",
       "        )\n",
       "        (1): BasicBlock(\n",
       "          (conv1): Conv2d(64, 64, kernel_size=(3, 3), stride=(1, 1), padding=(1, 1), bias=False)\n",
       "          (bn1): BatchNorm2d(64, eps=1e-05, momentum=0.1, affine=True, track_running_stats=True)\n",
       "          (relu): ReLU(inplace=True)\n",
       "          (conv2): Conv2d(64, 64, kernel_size=(3, 3), stride=(1, 1), padding=(1, 1), bias=False)\n",
       "          (bn2): BatchNorm2d(64, eps=1e-05, momentum=0.1, affine=True, track_running_stats=True)\n",
       "        )\n",
       "      )\n",
       "      (5): Sequential(\n",
       "        (0): BasicBlock(\n",
       "          (conv1): Conv2d(64, 128, kernel_size=(3, 3), stride=(2, 2), padding=(1, 1), bias=False)\n",
       "          (bn1): BatchNorm2d(128, eps=1e-05, momentum=0.1, affine=True, track_running_stats=True)\n",
       "          (relu): ReLU(inplace=True)\n",
       "          (conv2): Conv2d(128, 128, kernel_size=(3, 3), stride=(1, 1), padding=(1, 1), bias=False)\n",
       "          (bn2): BatchNorm2d(128, eps=1e-05, momentum=0.1, affine=True, track_running_stats=True)\n",
       "          (downsample): Sequential(\n",
       "            (0): Conv2d(64, 128, kernel_size=(1, 1), stride=(2, 2), bias=False)\n",
       "            (1): BatchNorm2d(128, eps=1e-05, momentum=0.1, affine=True, track_running_stats=True)\n",
       "          )\n",
       "        )\n",
       "        (1): BasicBlock(\n",
       "          (conv1): Conv2d(128, 128, kernel_size=(3, 3), stride=(1, 1), padding=(1, 1), bias=False)\n",
       "          (bn1): BatchNorm2d(128, eps=1e-05, momentum=0.1, affine=True, track_running_stats=True)\n",
       "          (relu): ReLU(inplace=True)\n",
       "          (conv2): Conv2d(128, 128, kernel_size=(3, 3), stride=(1, 1), padding=(1, 1), bias=False)\n",
       "          (bn2): BatchNorm2d(128, eps=1e-05, momentum=0.1, affine=True, track_running_stats=True)\n",
       "        )\n",
       "      )\n",
       "      (6): Sequential(\n",
       "        (0): BasicBlock(\n",
       "          (conv1): Conv2d(128, 256, kernel_size=(3, 3), stride=(2, 2), padding=(1, 1), bias=False)\n",
       "          (bn1): BatchNorm2d(256, eps=1e-05, momentum=0.1, affine=True, track_running_stats=True)\n",
       "          (relu): ReLU(inplace=True)\n",
       "          (conv2): Conv2d(256, 256, kernel_size=(3, 3), stride=(1, 1), padding=(1, 1), bias=False)\n",
       "          (bn2): BatchNorm2d(256, eps=1e-05, momentum=0.1, affine=True, track_running_stats=True)\n",
       "          (downsample): Sequential(\n",
       "            (0): Conv2d(128, 256, kernel_size=(1, 1), stride=(2, 2), bias=False)\n",
       "            (1): BatchNorm2d(256, eps=1e-05, momentum=0.1, affine=True, track_running_stats=True)\n",
       "          )\n",
       "        )\n",
       "        (1): BasicBlock(\n",
       "          (conv1): Conv2d(256, 256, kernel_size=(3, 3), stride=(1, 1), padding=(1, 1), bias=False)\n",
       "          (bn1): BatchNorm2d(256, eps=1e-05, momentum=0.1, affine=True, track_running_stats=True)\n",
       "          (relu): ReLU(inplace=True)\n",
       "          (conv2): Conv2d(256, 256, kernel_size=(3, 3), stride=(1, 1), padding=(1, 1), bias=False)\n",
       "          (bn2): BatchNorm2d(256, eps=1e-05, momentum=0.1, affine=True, track_running_stats=True)\n",
       "        )\n",
       "      )\n",
       "      (7): Sequential(\n",
       "        (0): BasicBlock(\n",
       "          (conv1): Conv2d(256, 512, kernel_size=(3, 3), stride=(2, 2), padding=(1, 1), bias=False)\n",
       "          (bn1): BatchNorm2d(512, eps=1e-05, momentum=0.1, affine=True, track_running_stats=True)\n",
       "          (relu): ReLU(inplace=True)\n",
       "          (conv2): Conv2d(512, 512, kernel_size=(3, 3), stride=(1, 1), padding=(1, 1), bias=False)\n",
       "          (bn2): BatchNorm2d(512, eps=1e-05, momentum=0.1, affine=True, track_running_stats=True)\n",
       "          (downsample): Sequential(\n",
       "            (0): Conv2d(256, 512, kernel_size=(1, 1), stride=(2, 2), bias=False)\n",
       "            (1): BatchNorm2d(512, eps=1e-05, momentum=0.1, affine=True, track_running_stats=True)\n",
       "          )\n",
       "        )\n",
       "        (1): BasicBlock(\n",
       "          (conv1): Conv2d(512, 512, kernel_size=(3, 3), stride=(1, 1), padding=(1, 1), bias=False)\n",
       "          (bn1): BatchNorm2d(512, eps=1e-05, momentum=0.1, affine=True, track_running_stats=True)\n",
       "          (relu): ReLU(inplace=True)\n",
       "          (conv2): Conv2d(512, 512, kernel_size=(3, 3), stride=(1, 1), padding=(1, 1), bias=False)\n",
       "          (bn2): BatchNorm2d(512, eps=1e-05, momentum=0.1, affine=True, track_running_stats=True)\n",
       "        )\n",
       "      )\n",
       "    )\n",
       "    (conv): Conv2d(512, 512, kernel_size=(1, 1), stride=(1, 1))\n",
       "  )\n",
       "  (embedding): Embedding(531, 512)\n",
       "  (pos_enc): PositionalEncoding()\n",
       "  (transformer_decoder): TransformerDecoder(\n",
       "    (layers): ModuleList(\n",
       "      (0-3): 4 x TransformerDecoderLayer(\n",
       "        (self_attn): MultiheadAttention(\n",
       "          (out_proj): NonDynamicallyQuantizableLinear(in_features=512, out_features=512, bias=True)\n",
       "        )\n",
       "        (multihead_attn): MultiheadAttention(\n",
       "          (out_proj): NonDynamicallyQuantizableLinear(in_features=512, out_features=512, bias=True)\n",
       "        )\n",
       "        (linear1): Linear(in_features=512, out_features=2048, bias=True)\n",
       "        (dropout): Dropout(p=0.1, inplace=False)\n",
       "        (linear2): Linear(in_features=2048, out_features=512, bias=True)\n",
       "        (norm1): LayerNorm((512,), eps=1e-05, elementwise_affine=True)\n",
       "        (norm2): LayerNorm((512,), eps=1e-05, elementwise_affine=True)\n",
       "        (norm3): LayerNorm((512,), eps=1e-05, elementwise_affine=True)\n",
       "        (dropout1): Dropout(p=0.1, inplace=False)\n",
       "        (dropout2): Dropout(p=0.1, inplace=False)\n",
       "        (dropout3): Dropout(p=0.1, inplace=False)\n",
       "      )\n",
       "    )\n",
       "  )\n",
       "  (output_proj): Linear(in_features=512, out_features=531, bias=True)\n",
       ")"
      ]
     },
     "execution_count": 83,
     "metadata": {},
     "output_type": "execute_result"
    }
   ],
   "source": [
    "model = TransformerEquationModel(vocab_size=len(token_to_id))\n",
    "model.to(device)\n"
   ]
  },
  {
   "cell_type": "code",
   "execution_count": 85,
   "id": "89012570-b579-4ad6-b54c-25de48ca7aa4",
   "metadata": {},
   "outputs": [],
   "source": [
    "criterion = nn.CrossEntropyLoss(ignore_index=token_to_id[\"[PAD]\"])\n",
    "optimizer = torch.optim.Adam(model.parameters(), lr=1e-4)\n"
   ]
  },
  {
   "cell_type": "code",
   "execution_count": 87,
   "id": "de148659-de24-4a4a-a5a9-90b6d79f8241",
   "metadata": {},
   "outputs": [],
   "source": [
    "def train_one_epoch(model, dataloader, criterion, optimizer, device):\n",
    "    model.train()\n",
    "    total_loss = 0\n",
    "\n",
    "    for batch in dataloader:\n",
    "        images = batch['images'].to(device)                  # [B, 1, H, W]\n",
    "        labels = batch['label_ids'].to(device)               # [B, T]\n",
    "        tgt_inp = labels[:, :-1]                             # Remove EOS\n",
    "        tgt_out = labels[:, 1:]                              # Shifted for prediction\n",
    "\n",
    "        optimizer.zero_grad()\n",
    "        logits = model(images, tgt_inp)                      # [B, T-1, vocab]\n",
    "        logits = logits.reshape(-1, logits.size(-1))         # [B*(T-1), vocab]\n",
    "        tgt_out = tgt_out.reshape(-1)                        # [B*(T-1)]\n",
    "\n",
    "        loss = criterion(logits, tgt_out)\n",
    "        loss.backward()\n",
    "        optimizer.step()\n",
    "        total_loss += loss.item()\n",
    "\n",
    "    return total_loss / len(dataloader)\n",
    "\n",
    "\n",
    "def validate(model, dataloader, criterion, device):\n",
    "    model.eval()\n",
    "    total_loss = 0\n",
    "\n",
    "    with torch.no_grad():\n",
    "        for batch in dataloader:\n",
    "            images = batch['images'].to(device)\n",
    "            labels = batch['label_ids'].to(device)\n",
    "            tgt_inp = labels[:, :-1]\n",
    "            tgt_out = labels[:, 1:]\n",
    "\n",
    "            logits = model(images, tgt_inp)\n",
    "            logits = logits.reshape(-1, logits.size(-1))\n",
    "            tgt_out = tgt_out.reshape(-1)\n",
    "\n",
    "            loss = criterion(logits, tgt_out)\n",
    "            total_loss += loss.item()\n",
    "\n",
    "    return total_loss / len(dataloader)\n"
   ]
  },
  {
   "cell_type": "code",
   "execution_count": 89,
   "id": "f5875895-7738-4798-b009-5583d961ad23",
   "metadata": {},
   "outputs": [
    {
     "name": "stdout",
     "output_type": "stream",
     "text": [
      "📚 Epoch 01 | Train Loss: 2.1950 | Val Loss: 1.5211\n",
      "📚 Epoch 02 | Train Loss: 1.2991 | Val Loss: 1.1053\n",
      "📚 Epoch 03 | Train Loss: 0.9892 | Val Loss: 0.9797\n",
      "📚 Epoch 04 | Train Loss: 0.8156 | Val Loss: 0.8578\n",
      "📚 Epoch 05 | Train Loss: 0.6912 | Val Loss: 0.8488\n",
      "📚 Epoch 06 | Train Loss: 0.6012 | Val Loss: 0.8234\n",
      "📚 Epoch 07 | Train Loss: 0.5181 | Val Loss: 0.7951\n",
      "📚 Epoch 08 | Train Loss: 0.4530 | Val Loss: 0.8013\n",
      "📚 Epoch 09 | Train Loss: 0.3871 | Val Loss: 0.8067\n",
      "📚 Epoch 10 | Train Loss: 0.3335 | Val Loss: 0.8170\n"
     ]
    }
   ],
   "source": [
    "num_epochs = 10\n",
    "\n",
    "for epoch in range(1, num_epochs + 1):\n",
    "    train_loss = train_one_epoch(model, train_loader, criterion, optimizer, device)\n",
    "    val_loss = validate(model, val_loader, criterion, device)\n",
    "\n",
    "    print(f\"📚 Epoch {epoch:02d} | Train Loss: {train_loss:.4f} | Val Loss: {val_loss:.4f}\")\n"
   ]
  },
  {
   "cell_type": "code",
   "execution_count": 91,
   "id": "db18d8b6-b23e-480c-a577-e213b1bc39b3",
   "metadata": {},
   "outputs": [],
   "source": [
    "def greedy_decode(model, image_tensor, token_to_id, id_to_token, max_len=150, device='cuda'):\n",
    "    model.eval()\n",
    "    sos_token = token_to_id[\"[SOS]\"]\n",
    "    eos_token = token_to_id[\"[EOS]\"]\n",
    "\n",
    "    image_tensor = image_tensor.unsqueeze(0).to(device)  # Add batch dim\n",
    "    generated = [sos_token]\n",
    "\n",
    "    with torch.no_grad():\n",
    "        for _ in range(max_len):\n",
    "            tgt_input = torch.tensor(generated).unsqueeze(0).to(device)  # [1, T]\n",
    "            output = model(image_tensor, tgt_input)  # [1, T, vocab_size]\n",
    "            next_token = output[0, -1].argmax().item()\n",
    "\n",
    "            if next_token == eos_token:\n",
    "                break\n",
    "            generated.append(next_token)\n",
    "\n",
    "    # Decode token IDs to LaTeX string\n",
    "    decoded = [id_to_token[idx] for idx in generated[1:] if id_to_token[idx] not in [\"[PAD]\", \"[EOS]\"]]\n",
    "    return \" \".join(decoded)\n"
   ]
  },
  {
   "cell_type": "code",
   "execution_count": 93,
   "id": "f6e0fe87-a764-43be-b708-ba311c5e97bd",
   "metadata": {},
   "outputs": [],
   "source": [
    "import matplotlib.pyplot as plt\n",
    "import torchvision.transforms as T\n",
    "\n",
    "def show_inference(sample, model, token_to_id, id_to_token, device='cuda'):\n",
    "    image = sample[\"image\"]\n",
    "    label_ids = sample[\"label_ids\"]\n",
    "\n",
    "    # Greedy decode\n",
    "    predicted_latex = greedy_decode(model, image, token_to_id, id_to_token, device=device)\n",
    "\n",
    "    # Ground truth decoding\n",
    "    true_latex = \" \".join([\n",
    "        id_to_token[i] for i in label_ids.tolist()\n",
    "        if id_to_token[i] not in [\"[PAD]\", \"[SOS]\", \"[EOS]\"]\n",
    "    ])\n",
    "\n",
    "    # Convert normalized tensor to numpy for display\n",
    "    unnorm = T.Normalize(mean=[-1], std=[2])  # reverse (0.5, 0.5)\n",
    "    img_np = unnorm(image).squeeze().cpu().numpy()\n",
    "\n",
    "    # Display image + decoded prediction\n",
    "    fig, ax = plt.subplots(2, 1, figsize=(10, 6))\n",
    "    ax[0].imshow(img_np, cmap='gray')\n",
    "    ax[0].axis('off')\n",
    "    ax[0].set_title(\"🧠 Input Equation Image\")\n",
    "\n",
    "    ax[1].axis('off')\n",
    "    try:\n",
    "        ax[1].text(0.05, 0.5, f\"Predicted: $ {predicted_latex} $\", fontsize=16)\n",
    "    except Exception:\n",
    "        ax[1].text(0.05, 0.5, f\"Predicted (Raw): {predicted_latex}\", fontsize=12, color='red')\n",
    "\n",
    "    plt.tight_layout()\n",
    "    plt.show()\n",
    "\n",
    "    print(\"🖼️ Predicted LaTeX:\", predicted_latex)\n",
    "    print(\"✅ Ground Truth LaTeX:\", true_latex)\n"
   ]
  },
  {
   "cell_type": "code",
   "execution_count": 95,
   "id": "6a9256b4-9ffc-446f-ac54-803430e8146d",
   "metadata": {},
   "outputs": [
    {
     "name": "stderr",
     "output_type": "stream",
     "text": [
      "C:\\Users\\Vandana\\AppData\\Local\\Temp\\ipykernel_22928\\2362444148.py:33: UserWarning: Glyph 129504 (\\N{BRAIN}) missing from font(s) DejaVu Sans.\n",
      "  plt.tight_layout()\n",
      "C:\\Users\\Vandana\\anaconda\\Lib\\site-packages\\IPython\\core\\pylabtools.py:170: UserWarning: Glyph 129504 (\\N{BRAIN}) missing from font(s) DejaVu Sans.\n",
      "  fig.canvas.print_figure(bytes_io, **kw)\n"
     ]
    },
    {
     "data": {
      "image/png": "[encoded data removed]",
      "text/plain": [
       "<Figure size 1000x600 with 2 Axes>"
      ]
     },
     "metadata": {},
     "output_type": "display_data"
    },
    {
     "name": "stdout",
     "output_type": "stream",
     "text": [
      "🖼️ Predicted LaTeX: \\log _ 2 \\left ( 2 ^ 5 \\right ) = 5\n",
      "✅ Ground Truth LaTeX: \\log _ 2 \\left ( 2 ^ 5 \\right ) = 5\n"
     ]
    }
   ],
   "source": [
    "sample = test_dataset[0]\n",
    "show_inference(sample, model, token_to_id, id_to_token, device=device)\n"
   ]
  },
  {
   "cell_type": "code",
   "execution_count": 97,
   "id": "e761a754-2026-406d-ba16-5d9746b6c977",
   "metadata": {},
   "outputs": [
    {
     "name": "stderr",
     "output_type": "stream",
     "text": [
      "C:\\Users\\Vandana\\AppData\\Local\\Temp\\ipykernel_22928\\2362444148.py:33: UserWarning: Glyph 129504 (\\N{BRAIN}) missing from font(s) DejaVu Sans.\n",
      "  plt.tight_layout()\n",
      "C:\\Users\\Vandana\\anaconda\\Lib\\site-packages\\IPython\\core\\pylabtools.py:170: UserWarning: Glyph 129504 (\\N{BRAIN}) missing from font(s) DejaVu Sans.\n",
      "  fig.canvas.print_figure(bytes_io, **kw)\n"
     ]
    },
    {
     "data": {
      "image/png": "[encoded data removed]",
      "text/plain": [
       "<Figure size 1000x600 with 2 Axes>"
      ]
     },
     "metadata": {},
     "output_type": "display_data"
    },
    {
     "name": "stdout",
     "output_type": "stream",
     "text": [
      "🖼️ Predicted LaTeX: ( 1 - 0 )\n",
      "✅ Ground Truth LaTeX: { \\left ( \\mbox { l } \\right ) = \\left ( \\lambda \\right ) }\n"
     ]
    }
   ],
   "source": [
    "sample = test_dataset[3]\n",
    "show_inference(sample, model, token_to_id, id_to_token, device=device)\n"
   ]
  },
  {
   "cell_type": "code",
   "execution_count": 99,
   "id": "ee3c9945-2ad3-4e07-910a-56ac3e4aaafd",
   "metadata": {},
   "outputs": [
    {
     "name": "stderr",
     "output_type": "stream",
     "text": [
      "C:\\Users\\Vandana\\AppData\\Local\\Temp\\ipykernel_22928\\2362444148.py:33: UserWarning: Glyph 129504 (\\N{BRAIN}) missing from font(s) DejaVu Sans.\n",
      "  plt.tight_layout()\n",
      "C:\\Users\\Vandana\\anaconda\\Lib\\site-packages\\IPython\\core\\pylabtools.py:170: UserWarning: Glyph 129504 (\\N{BRAIN}) missing from font(s) DejaVu Sans.\n",
      "  fig.canvas.print_figure(bytes_io, **kw)\n"
     ]
    },
    {
     "data": {
      "image/png": "[encoded data removed]",
      "text/plain": [
       "<Figure size 1000x600 with 2 Axes>"
      ]
     },
     "metadata": {},
     "output_type": "display_data"
    },
    {
     "name": "stdout",
     "output_type": "stream",
     "text": [
      "🖼️ Predicted LaTeX: d ( p , q )\n",
      "✅ Ground Truth LaTeX: d ( x + y )\n"
     ]
    }
   ],
   "source": [
    "sample = test_dataset[5]\n",
    "show_inference(sample, model, token_to_id, id_to_token, device=device)\n"
   ]
  },
  {
   "cell_type": "code",
   "execution_count": 103,
   "id": "57ce7292-5e90-48d4-8d02-9cedda4e30cc",
   "metadata": {},
   "outputs": [
    {
     "name": "stderr",
     "output_type": "stream",
     "text": [
      "C:\\Users\\Vandana\\AppData\\Local\\Temp\\ipykernel_22928\\2362444148.py:33: UserWarning: Glyph 129504 (\\N{BRAIN}) missing from font(s) DejaVu Sans.\n",
      "  plt.tight_layout()\n",
      "C:\\Users\\Vandana\\anaconda\\Lib\\site-packages\\IPython\\core\\pylabtools.py:170: UserWarning: Glyph 129504 (\\N{BRAIN}) missing from font(s) DejaVu Sans.\n",
      "  fig.canvas.print_figure(bytes_io, **kw)\n"
     ]
    },
    {
     "data": {
      "image/png": "[encoded data removed]",
      "text/plain": [
       "<Figure size 1000x600 with 2 Axes>"
      ]
     },
     "metadata": {},
     "output_type": "display_data"
    },
    {
     "name": "stdout",
     "output_type": "stream",
     "text": [
      "🖼️ Predicted LaTeX: 2 ^ { 69 }\n",
      "✅ Ground Truth LaTeX: 2 ^ { 60 }\n"
     ]
    }
   ],
   "source": [
    "sample = test_dataset[11]\n",
    "show_inference(sample, model, token_to_id, id_to_token, device=device)\n"
   ]
  },
  {
   "cell_type": "code",
   "execution_count": 106,
   "id": "34fd18ab-b574-4819-9da2-3e3c532e805e",
   "metadata": {},
   "outputs": [],
   "source": [
    "def exact_match_accuracy(model, dataloader, token_to_id, id_to_token, device='cuda', max_len=150):\n",
    "    model.eval()\n",
    "    sos_token = token_to_id[\"[SOS]\"]\n",
    "    eos_token = token_to_id[\"[EOS]\"]\n",
    "\n",
    "    total = 0\n",
    "    correct = 0\n",
    "\n",
    "    with torch.no_grad():\n",
    "        for batch in dataloader:\n",
    "            images = batch[\"images\"].to(device)\n",
    "            labels = batch[\"label_ids\"]\n",
    "\n",
    "            for i in range(images.size(0)):\n",
    "                image = images[i]\n",
    "                true_ids = labels[i].tolist()\n",
    "\n",
    "                # Ground truth cleaned\n",
    "                true_tokens = [t for t in true_ids if t not in [\n",
    "                    token_to_id[\"[SOS]\"], token_to_id[\"[EOS]\"], token_to_id[\"[PAD]\"]]]\n",
    "\n",
    "                # Prediction\n",
    "                pred_latex = greedy_decode(model, image, token_to_id, id_to_token, max_len=max_len, device=device)\n",
    "\n",
    "                # Decode prediction to token list\n",
    "                pred_tokens = [\n",
    "                    token_to_id.get(tok, -1) for tok in pred_latex.split()\n",
    "                    if tok in token_to_id\n",
    "                ]\n",
    "\n",
    "                if pred_tokens == true_tokens:\n",
    "                    correct += 1\n",
    "                total += 1\n",
    "\n",
    "    acc = 100 * correct / total\n",
    "    print(f\"✅ Exact Match Accuracy: {acc:.2f}%\")\n",
    "    return acc\n"
   ]
  },
  {
   "cell_type": "code",
   "execution_count": 108,
   "id": "cebc421e-5c89-4a5f-8d7e-a662287b4eac",
   "metadata": {},
   "outputs": [
    {
     "name": "stdout",
     "output_type": "stream",
     "text": [
      "✅ Exact Match Accuracy: 31.37%\n"
     ]
    },
    {
     "data": {
      "text/plain": [
       "31.37440758293839"
      ]
     },
     "execution_count": 108,
     "metadata": {},
     "output_type": "execute_result"
    }
   ],
   "source": [
    "exact_match_accuracy(model, test_loader, token_to_id, id_to_token, device=device)\n"
   ]
  },
  {
   "cell_type": "code",
   "execution_count": 109,
   "id": "05519d07-5caf-43aa-b764-c7f3d00f9f06",
   "metadata": {},
   "outputs": [],
   "source": [
    "# CER\n",
    "import Levenshtein\n",
    "\n",
    "def cer(model, dataloader, token_to_id, id_to_token, device='cuda', max_len=150):\n",
    "    model.eval()\n",
    "    total_chars = 0\n",
    "    total_errors = 0\n",
    "\n",
    "    with torch.no_grad():\n",
    "        for batch in dataloader:\n",
    "            images = batch[\"images\"].to(device)\n",
    "            labels = batch[\"label_ids\"]\n",
    "\n",
    "            for i in range(images.size(0)):\n",
    "                image = images[i]\n",
    "                true_ids = labels[i].tolist()\n",
    "\n",
    "                # Clean true sequence\n",
    "                true_tokens = [id_to_token[tok] for tok in true_ids if tok not in [\n",
    "                    token_to_id[\"[PAD]\"], token_to_id[\"[SOS]\"], token_to_id[\"[EOS]\"]]]\n",
    "                true_str = ' '.join(true_tokens)\n",
    "\n",
    "                # Predict using greedy decoding\n",
    "                pred_str = greedy_decode(model, image, token_to_id, id_to_token, device=device, max_len=max_len)\n",
    "\n",
    "                # Compute Levenshtein edit distance\n",
    "                dist = Levenshtein.distance(pred_str, true_str)\n",
    "                total_errors += dist\n",
    "                total_chars += len(true_str)\n",
    "\n",
    "    cer_value = total_errors / total_chars if total_chars > 0 else 0\n",
    "    print(f\"🔍 Character Error Rate (CER): {cer_value:.4f}\")\n",
    "    return cer_value\n"
   ]
  },
  {
   "cell_type": "code",
   "execution_count": 110,
   "id": "5ebacd3a-cc37-4ba8-bd4c-ae071b9b2a47",
   "metadata": {},
   "outputs": [
    {
     "name": "stdout",
     "output_type": "stream",
     "text": [
      "🔍 Character Error Rate (CER): 0.4131\n"
     ]
    },
    {
     "data": {
      "text/plain": [
       "0.4131054131054131"
      ]
     },
     "execution_count": 110,
     "metadata": {},
     "output_type": "execute_result"
    }
   ],
   "source": [
    "cer(model, test_loader, token_to_id, id_to_token, device=device)\n"
   ]
  },
  {
   "cell_type": "code",
   "execution_count": 114,
   "id": "a57858d8-b48b-43dc-9c96-a8096cdae615",
   "metadata": {},
   "outputs": [],
   "source": [
    "# bleu score\n",
    "\n",
    "from nltk.translate.bleu_score import sentence_bleu, SmoothingFunction\n",
    "\n",
    "def compute_bleu(model, dataloader, token_to_id, id_to_token, device='cuda', max_len=150):\n",
    "    model.eval()\n",
    "    smoothie = SmoothingFunction().method4\n",
    "    total_score = 0\n",
    "    total_samples = 0\n",
    "\n",
    "    with torch.no_grad():\n",
    "        for batch in dataloader:\n",
    "            images = batch[\"images\"].to(device)\n",
    "            labels = batch[\"label_ids\"]\n",
    "\n",
    "            for i in range(images.size(0)):\n",
    "                image = images[i]\n",
    "                true_ids = labels[i].tolist()\n",
    "\n",
    "                # Clean ground truth\n",
    "                reference = [id_to_token[tok] for tok in true_ids\n",
    "                             if tok not in [token_to_id[\"[PAD]\"], token_to_id[\"[SOS]\"], token_to_id[\"[EOS]\"]]]\n",
    "\n",
    "                # Prediction\n",
    "                hypothesis = greedy_decode(model, image, token_to_id, id_to_token, device=device, max_len=max_len).split()\n",
    "\n",
    "                # Compute BLEU for 1-4 gram\n",
    "                score = sentence_bleu([reference], hypothesis, smoothing_function=smoothie, weights=(0.25, 0.25, 0.25, 0.25))\n",
    "                total_score += score\n",
    "                total_samples += 1\n",
    "\n",
    "    bleu_score = total_score / total_samples\n",
    "    print(f\"🔷 BLEU Score (avg): {bleu_score:.4f}\")\n",
    "    return bleu_score\n"
   ]
  },
  {
   "cell_type": "code",
   "execution_count": 115,
   "id": "8ecf5cc2-86a6-480e-91e5-35cf77b4bce3",
   "metadata": {},
   "outputs": [
    {
     "name": "stdout",
     "output_type": "stream",
     "text": [
      "🔷 BLEU Score (avg): 0.4223\n"
     ]
    },
    {
     "data": {
      "text/plain": [
       "0.4223161330027397"
      ]
     },
     "execution_count": 115,
     "metadata": {},
     "output_type": "execute_result"
    }
   ],
   "source": [
    "compute_bleu(model, test_loader, token_to_id, id_to_token, device=device)\n"
   ]
  },
  {
   "cell_type": "code",
   "execution_count": 137,
   "id": "8937e901-9bce-472f-94bd-2a42c8c5aa6a",
   "metadata": {},
   "outputs": [],
   "source": [
    "#saving the transformer model \n",
    "import torch\n",
    "\n",
    "# Save full model (state_dict is better for flexibility)\n",
    "torch.save(model.state_dict(), \"cnn_transformer_model.pth\")\n"
   ]
  },
  {
   "cell_type": "markdown",
   "id": "564f5f1b-07ca-4c96-b5de-69d67853c79f",
   "metadata": {},
   "source": [
    "## Model 3: PosFormerModel"
   ]
  },
  {
   "cell_type": "code",
   "execution_count": 140,
   "id": "cc1c1c7c-6120-430a-9f77-c29fb5ef4ada",
   "metadata": {},
   "outputs": [],
   "source": [
    "import torch\n",
    "import torch.nn as nn\n",
    "import torchvision.models as models\n",
    "\n",
    "class PositionalEncoding(nn.Module):\n",
    "    def __init__(self, d_model, max_len=500):\n",
    "        super().__init__()\n",
    "        pe = torch.zeros(max_len, d_model)\n",
    "        position = torch.arange(0, max_len, dtype=torch.float).unsqueeze(1)\n",
    "        div_term = torch.exp(torch.arange(0, d_model, 2).float() * (-torch.log(torch.tensor(10000.0)) / d_model))\n",
    "        pe[:, 0::2] = torch.sin(position * div_term)\n",
    "        pe[:, 1::2] = torch.cos(position * div_term)\n",
    "        self.pe = pe.unsqueeze(0)\n",
    "\n",
    "    def forward(self, x):\n",
    "        x = x + self.pe[:, :x.size(1), :].to(x.device)\n",
    "        return x\n",
    "\n",
    "class CNNTransformerModel(nn.Module):\n",
    "    def __init__(self, num_tokens, d_model=512, nhead=8, num_layers=3, dropout=0.1):\n",
    "        super().__init__()\n",
    "\n",
    "        # 1. ResNet encoder (1-channel input, remove classifier head)\n",
    "        base_model = models.resnet18(weights=models.ResNet18_Weights.DEFAULT)\n",
    "        base_model.conv1 = nn.Conv2d(1, 64, kernel_size=7, stride=2, padding=3, bias=False)\n",
    "        self.cnn_encoder = nn.Sequential(*(list(base_model.children())[:-2]))  # output: [B, 512, H/32, W/32]\n",
    "\n",
    "        self.encoder_proj = nn.Linear(512, d_model)\n",
    "\n",
    "        # 2. Transformer decoder\n",
    "        self.embedding = nn.Embedding(num_tokens, d_model)\n",
    "        self.positional_encoding = PositionalEncoding(d_model)\n",
    "\n",
    "        decoder_layer = nn.TransformerDecoderLayer(d_model=d_model, nhead=nhead, dropout=dropout)\n",
    "        self.transformer_decoder = nn.TransformerDecoder(decoder_layer, num_layers=num_layers)\n",
    "\n",
    "        self.fc_out = nn.Linear(d_model, num_tokens)\n",
    "\n",
    "    def forward(self, images, tgt_seq):\n",
    "        # Encode image\n",
    "        features = self.cnn_encoder(images)  # [B, 512, H, W]\n",
    "        B, C, H, W = features.shape\n",
    "        features = features.permute(0, 2, 3, 1).reshape(B, -1, C)  # [B, H*W, 512]\n",
    "        memory = self.encoder_proj(features).permute(1, 0, 2)  # [T, B, d_model]\n",
    "\n",
    "        # Decode sequence\n",
    "        tgt_emb = self.embedding(tgt_seq)  # [B, T, d_model]\n",
    "        tgt_emb = self.positional_encoding(tgt_emb).permute(1, 0, 2)  # [T, B, d_model]\n",
    "\n",
    "        tgt_mask = nn.Transformer.generate_square_subsequent_mask(tgt_emb.size(0)).to(images.device)\n",
    "\n",
    "        output = self.transformer_decoder(tgt_emb, memory, tgt_mask=tgt_mask)\n",
    "        logits = self.fc_out(output)  # [T, B, num_tokens]\n",
    "        return logits\n"
   ]
  },
  {
   "cell_type": "code",
   "execution_count": 142,
   "id": "59d7e8ac-07e1-480c-8548-916a971a71ac",
   "metadata": {},
   "outputs": [
    {
     "name": "stdout",
     "output_type": "stream",
     "text": [
      "Downloading: \"https://download.pytorch.org/models/resnet18-f37072fd.pth\" to C:\\Users\\Vandana/.cache\\torch\\hub\\checkpoints\\resnet18-f37072fd.pth\n"
     ]
    },
    {
     "name": "stderr",
     "output_type": "stream",
     "text": [
      "100%|█████████████████████████████████████████████████████████████████████████████| 44.7M/44.7M [00:04<00:00, 10.7MB/s]\n"
     ]
    }
   ],
   "source": [
    "model = CNNTransformerModel(num_tokens=len(token_to_id))\n"
   ]
  },
  {
   "cell_type": "code",
   "execution_count": 156,
   "id": "21da5dd0-7d0d-469a-b6da-e6fc609be9f9",
   "metadata": {},
   "outputs": [],
   "source": [
    "def train_posformer(model, dataloader, optimizer, loss_fn, device, num_epochs=10):\n",
    "    model.to(device)\n",
    "    model.train()\n",
    "\n",
    "    for epoch in range(1, num_epochs + 1):\n",
    "        total_loss = 0\n",
    "\n",
    "        for batch in dataloader:\n",
    "            images = batch['images'].to(device)\n",
    "            token_ids = batch['label_ids'].to(device)  # ✅ correct key\n",
    "\n",
    "            decoder_input = token_ids[:, :-1]  # without [EOS]\n",
    "            targets = token_ids[:, 1:]         # without [SOS]\n",
    "\n",
    "            logits = model(images, decoder_input)      # [T, B, vocab]\n",
    "            logits = logits.permute(1, 0, 2)           # [B, T, vocab]\n",
    "\n",
    "            loss = loss_fn(logits.reshape(-1, logits.size(-1)), targets.reshape(-1))\n",
    "\n",
    "            optimizer.zero_grad()\n",
    "            loss.backward()\n",
    "            optimizer.step()\n",
    "\n",
    "            total_loss += loss.item()\n",
    "\n",
    "        avg_loss = total_loss / len(dataloader)\n",
    "        print(f\"📘 Epoch {epoch}: Avg Loss = {avg_loss:.4f}\")\n"
   ]
  },
  {
   "cell_type": "code",
   "execution_count": 152,
   "id": "3d89bfc2-3cb9-4976-b2f9-d2b54353af20",
   "metadata": {},
   "outputs": [
    {
     "name": "stdout",
     "output_type": "stream",
     "text": [
      "<class 'dict'>\n",
      "{'images': tensor([[[[1., 1., 1.,  ..., 1., 1., 1.],\n",
      "          [1., 1., 1.,  ..., 1., 1., 1.],\n",
      "          [1., 1., 1.,  ..., 1., 1., 1.],\n",
      "          ...,\n",
      "          [1., 1., 1.,  ..., 1., 1., 1.],\n",
      "          [1., 1., 1.,  ..., 1., 1., 1.],\n",
      "          [1., 1., 1.,  ..., 1., 1., 1.]]],\n",
      "\n",
      "\n",
      "        [[[1., 1., 1.,  ..., 1., 1., 1.],\n",
      "          [1., 1., 1.,  ..., 1., 1., 1.],\n",
      "          [1., 1., 1.,  ..., 1., 1., 1.],\n",
      "          ...,\n",
      "          [1., 1., 1.,  ..., 1., 1., 1.],\n",
      "          [1., 1., 1.,  ..., 1., 1., 1.],\n",
      "          [1., 1., 1.,  ..., 1., 1., 1.]]],\n",
      "\n",
      "\n",
      "        [[[1., 1., 1.,  ..., 1., 1., 1.],\n",
      "          [1., 1., 1.,  ..., 1., 1., 1.],\n",
      "          [1., 1., 1.,  ..., 1., 1., 1.],\n",
      "          ...,\n",
      "          [1., 1., 1.,  ..., 1., 1., 1.],\n",
      "          [1., 1., 1.,  ..., 1., 1., 1.],\n",
      "          [1., 1., 1.,  ..., 1., 1., 1.]]],\n",
      "\n",
      "\n",
      "        ...,\n",
      "\n",
      "\n",
      "        [[[1., 1., 1.,  ..., 1., 1., 1.],\n",
      "          [1., 1., 1.,  ..., 1., 1., 1.],\n",
      "          [1., 1., 1.,  ..., 1., 1., 1.],\n",
      "          ...,\n",
      "          [1., 1., 1.,  ..., 1., 1., 1.],\n",
      "          [1., 1., 1.,  ..., 1., 1., 1.],\n",
      "          [1., 1., 1.,  ..., 1., 1., 1.]]],\n",
      "\n",
      "\n",
      "        [[[1., 1., 1.,  ..., 1., 1., 1.],\n",
      "          [1., 1., 1.,  ..., 1., 1., 1.],\n",
      "          [1., 1., 1.,  ..., 1., 1., 1.],\n",
      "          ...,\n",
      "          [1., 1., 1.,  ..., 1., 1., 1.],\n",
      "          [1., 1., 1.,  ..., 1., 1., 1.],\n",
      "          [1., 1., 1.,  ..., 1., 1., 1.]]],\n",
      "\n",
      "\n",
      "        [[[1., 1., 1.,  ..., 1., 1., 1.],\n",
      "          [1., 1., 1.,  ..., 1., 1., 1.],\n",
      "          [1., 1., 1.,  ..., 1., 1., 1.],\n",
      "          ...,\n",
      "          [1., 1., 1.,  ..., 1., 1., 1.],\n",
      "          [1., 1., 1.,  ..., 1., 1., 1.],\n",
      "          [1., 1., 1.,  ..., 1., 1., 1.]]]]), 'label_ids': tensor([[  1, 503, 426,  11,   7, 395,   2,   0,   0,   0,   0,   0,   0,   0,\n",
      "           0,   0,   0,   0,   0,   0,   0,   0,   0,   0,   0,   0,   0,   0,\n",
      "           0,   0,   0,   0,   0,   0,   0,   0,   0,   0,   0,   0],\n",
      "        [  1, 527, 501, 181, 485, 491, 529, 523,   8, 518, 530, 447,   4, 527,\n",
      "           8, 462, 529, 519, 530, 529, 181,   4, 523,   8, 518,   5, 530, 447,\n",
      "           5,   6, 462, 529, 523, 530, 529, 181, 530, 426,  11,   2],\n",
      "        [  1, 462, 529, 529, 526, 501, 529, 279, 530, 530, 530, 529, 529, 181,\n",
      "         501, 529, 239, 530, 530, 530,   8, 529,   4, 462, 529, 181, 530, 529,\n",
      "         526, 530,   5, 501, 529,   8, 279, 530, 530,   2,   0,   0],\n",
      "        [  1, 181,   6, 279, 426, 334,   2,   0,   0,   0,   0,   0,   0,   0,\n",
      "           0,   0,   0,   0,   0,   0,   0,   0,   0,   0,   0,   0,   0,   0,\n",
      "           0,   0,   0,   0,   0,   0,   0,   0,   0,   0,   0,   0],\n",
      "        [  1, 468, 471,   4, 181, 501, 529, 526, 530,   8, 239, 507, 501, 529,\n",
      "         526, 530, 487,   5, 506, 526,   2,   0,   0,   0,   0,   0,   0,   0,\n",
      "           0,   0,   0,   0,   0,   0,   0,   0,   0,   0,   0,   0],\n",
      "        [  1,   4, 523, 502,  24,   7, 523, 502, 181,   5,   2,   0,   0,   0,\n",
      "           0,   0,   0,   0,   0,   0,   0,   0,   0,   0,   0,   0,   0,   0,\n",
      "           0,   0,   0,   0,   0,   0,   0,   0,   0,   0,   0,   0],\n",
      "        [  1, 475, 502, 181,   4, 279,   5,   2,   0,   0,   0,   0,   0,   0,\n",
      "           0,   0,   0,   0,   0,   0,   0,   0,   0,   0,   0,   0,   0,   0,\n",
      "           0,   0,   0,   0,   0,   0,   0,   0,   0,   0,   0,   0],\n",
      "        [  1, 495, 426, 483,   2,   0,   0,   0,   0,   0,   0,   0,   0,   0,\n",
      "           0,   0,   0,   0,   0,   0,   0,   0,   0,   0,   0,   0,   0,   0,\n",
      "           0,   0,   0,   0,   0,   0,   0,   0,   0,   0,   0,   0],\n",
      "        [  1, 520, 502, 529, 279, 530, 426,   8, 520, 502, 529,  11, 530,   8,\n",
      "         520, 502, 529,  24, 530,   8, 520, 502, 529, 181, 530,   8, 520, 502,\n",
      "         529, 239, 530,   2,   0,   0,   0,   0,   0,   0,   0,   0],\n",
      "        [  1, 529, 479, 529, 522, 530, 471,   4, 471,   4, 483, 487,   5, 487,\n",
      "           5, 530,   2,   0,   0,   0,   0,   0,   0,   0,   0,   0,   0,   0,\n",
      "           0,   0,   0,   0,   0,   0,   0,   0,   0,   0,   0,   0],\n",
      "        [  1, 475, 502, 529, 181, 530, 384,   6, 475, 502, 529, 239, 530, 407,\n",
      "           6, 475, 502, 529, 279, 530,  24, 334,   2,   0,   0,   0,   0,   0,\n",
      "           0,   0,   0,   0,   0,   0,   0,   0,   0,   0,   0,   0],\n",
      "        [  1, 526, 426, 452, 529, 518, 515, 503, 522, 520, 511, 526, 530, 181,\n",
      "          24, 459, 529, 518, 515, 503, 522, 520, 511, 526, 530,   2,   0,   0,\n",
      "           0,   0,   0,   0,   0,   0,   0,   0,   0,   0,   0,   0],\n",
      "        [  1, 529,   8, 479, 529, 510, 530, 471,   4, 479, 529, 511, 530, 487,\n",
      "           5, 530,   2,   0,   0,   0,   0,   0,   0,   0,   0,   0,   0,   0,\n",
      "           0,   0,   0,   0,   0,   0,   0,   0,   0,   0,   0,   0],\n",
      "        [  1, 462, 529, 494, 451,   8, 494, 453, 530, 529,  24,   6, 494, 451,\n",
      "         494, 453, 530,   2,   0,   0,   0,   0,   0,   0,   0,   0,   0,   0,\n",
      "           0,   0,   0,   0,   0,   0,   0,   0,   0,   0,   0,   0],\n",
      "        [  1, 462, 529, 529, 526, 501, 529, 279, 530, 530, 530, 529, 529, 181,\n",
      "         501, 529, 239, 530, 530, 530,   8, 529,   4, 462, 529, 181, 530, 529,\n",
      "         526, 530,   5, 501, 529,   8, 279, 530, 530,   2,   0,   0],\n",
      "        [  1, 529,   4, 526,   6,  24,   5, 501, 529, 516,   6,  24, 530, 530,\n",
      "         426,   4, 526,   6,  24,   5, 529,   4, 526,   6,  24,   5, 501, 529,\n",
      "         516, 530, 530,   2,   0,   0,   0,   0,   0,   0,   0,   0]]), 'lengths': tensor([ 7, 40, 38,  7, 21, 11,  8,  5, 32, 17, 23, 26, 17, 18, 38, 32])}\n"
     ]
    }
   ],
   "source": [
    "batch = next(iter(train_loader))\n",
    "print(type(batch))\n",
    "print(batch)\n"
   ]
  },
  {
   "cell_type": "code",
   "execution_count": 154,
   "id": "af891402-9f13-4f43-a901-bc7d5f35631b",
   "metadata": {},
   "outputs": [
    {
     "name": "stdout",
     "output_type": "stream",
     "text": [
      "🧩 Batch keys: dict_keys(['images', 'label_ids', 'lengths'])\n"
     ]
    }
   ],
   "source": [
    "print(\"🧩 Batch keys:\", batch.keys())\n"
   ]
  },
  {
   "cell_type": "code",
   "execution_count": 158,
   "id": "94716127-ef04-4323-94dc-36884ffd6bf8",
   "metadata": {},
   "outputs": [
    {
     "name": "stdout",
     "output_type": "stream",
     "text": [
      "📘 Epoch 1: Avg Loss = 2.1896\n",
      "📘 Epoch 2: Avg Loss = 1.2711\n",
      "📘 Epoch 3: Avg Loss = 0.9605\n",
      "📘 Epoch 4: Avg Loss = 0.7912\n",
      "📘 Epoch 5: Avg Loss = 0.6708\n",
      "📘 Epoch 6: Avg Loss = 0.5727\n",
      "📘 Epoch 7: Avg Loss = 0.5000\n",
      "📘 Epoch 8: Avg Loss = 0.4336\n",
      "📘 Epoch 9: Avg Loss = 0.3852\n",
      "📘 Epoch 10: Avg Loss = 0.3450\n"
     ]
    }
   ],
   "source": [
    "loss_fn = nn.CrossEntropyLoss(ignore_index=token_to_id['[PAD]'])\n",
    "optimizer = torch.optim.Adam(model.parameters(), lr=1e-4)\n",
    "\n",
    "train_posformer(model, train_loader, optimizer, loss_fn, device, num_epochs=10)\n"
   ]
  },
  {
   "cell_type": "code",
   "execution_count": 159,
   "id": "79f26274-6399-48fb-8991-8783372dcb77",
   "metadata": {},
   "outputs": [],
   "source": [
    "def calculate_test_accuracy(model, dataloader, device):\n",
    "    model.eval()\n",
    "    correct = 0\n",
    "    total = 0\n",
    "\n",
    "    with torch.no_grad():\n",
    "        for batch in dataloader:\n",
    "            images = batch['images'].to(device)\n",
    "            token_ids = batch['label_ids'].to(device)\n",
    "\n",
    "            decoder_input = token_ids[:, :-1]\n",
    "            targets = token_ids[:, 1:]\n",
    "\n",
    "            logits = model(images, decoder_input)        # [T, B, vocab]\n",
    "            preds = torch.argmax(logits, dim=-1)         # [T, B]\n",
    "            preds = preds.permute(1, 0)                  # [B, T]\n",
    "\n",
    "            # Compare only non-padding tokens\n",
    "            mask = targets != token_to_id['[PAD]']\n",
    "            correct += (preds[mask] == targets[mask]).sum().item()\n",
    "            total += mask.sum().item()\n",
    "\n",
    "    accuracy = 100 * correct / total\n",
    "    print(f\"✅ Token-level Test Accuracy: {accuracy:.2f}%\")\n",
    "    return accuracy\n"
   ]
  },
  {
   "cell_type": "code",
   "execution_count": 160,
   "id": "bd9fa267-0579-40c5-888a-394840a3cb64",
   "metadata": {},
   "outputs": [
    {
     "name": "stdout",
     "output_type": "stream",
     "text": [
      "✅ Token-level Test Accuracy: 82.36%\n"
     ]
    },
    {
     "data": {
      "text/plain": [
       "82.35600458285596"
      ]
     },
     "execution_count": 160,
     "metadata": {},
     "output_type": "execute_result"
    }
   ],
   "source": [
    "calculate_test_accuracy(model, test_loader, device)\n"
   ]
  },
  {
   "cell_type": "code",
   "execution_count": 165,
   "id": "4c332ad4-62d6-4518-bd47-64fafc092949",
   "metadata": {},
   "outputs": [
    {
     "name": "stdout",
     "output_type": "stream",
     "text": [
      "Collecting jiwer\n",
      "  Downloading jiwer-3.1.0-py3-none-any.whl.metadata (2.6 kB)\n",
      "Collecting click>=8.1.8 (from jiwer)\n",
      "  Downloading click-8.2.0-py3-none-any.whl.metadata (2.5 kB)\n",
      "Requirement already satisfied: rapidfuzz>=3.9.7 in c:\\users\\vandana\\anaconda\\lib\\site-packages (from jiwer) (3.13.0)\n",
      "Requirement already satisfied: colorama in c:\\users\\vandana\\anaconda\\lib\\site-packages (from click>=8.1.8->jiwer) (0.4.6)\n",
      "Downloading jiwer-3.1.0-py3-none-any.whl (22 kB)\n",
      "Downloading click-8.2.0-py3-none-any.whl (102 kB)\n",
      "Installing collected packages: click, jiwer\n",
      "  Attempting uninstall: click\n",
      "    Found existing installation: click 8.1.7\n",
      "    Uninstalling click-8.1.7:\n",
      "      Successfully uninstalled click-8.1.7\n",
      "Successfully installed click-8.2.0 jiwer-3.1.0\n"
     ]
    },
    {
     "name": "stderr",
     "output_type": "stream",
     "text": [
      "ERROR: pip's dependency resolver does not currently take into account all the packages that are installed. This behaviour is the source of the following dependency conflicts.\n",
      "streamlit 1.37.1 requires pillow<11,>=7.1.0, but you have pillow 11.2.1 which is incompatible.\n"
     ]
    }
   ],
   "source": [
    "!pip install jiwer\n"
   ]
  },
  {
   "cell_type": "code",
   "execution_count": 169,
   "id": "95633fe1-ed69-40d3-b1d5-eab3aafb8a01",
   "metadata": {},
   "outputs": [],
   "source": [
    "from nltk.translate.bleu_score import sentence_bleu, SmoothingFunction\n",
    "from jiwer import cer\n",
    "\n",
    "def detokenize_ids(token_ids, id_to_token):\n",
    "    return [id_to_token[i] for i in token_ids if i in id_to_token and id_to_token[i] not in ['[PAD]', '[SOS]', '[EOS]']]\n",
    "\n",
    "def evaluate_model(model, dataloader, device, id_to_token, token_to_id):\n",
    "    model.eval()\n",
    "\n",
    "    exact_matches = 0\n",
    "    total_equations = 0\n",
    "    total_cer = 0.0\n",
    "    total_token_correct = 0\n",
    "    total_token_count = 0\n",
    "    total_bleu = 0.0\n",
    "\n",
    "    smooth = SmoothingFunction().method1\n",
    "\n",
    "    with torch.no_grad():\n",
    "        for batch in dataloader:\n",
    "            images = batch['images'].to(device)\n",
    "            token_ids = batch['label_ids'].to(device)\n",
    "\n",
    "            decoder_input = token_ids[:, :-1]\n",
    "            targets = token_ids[:, 1:]\n",
    "\n",
    "            logits = model(images, decoder_input)\n",
    "            preds = torch.argmax(logits, dim=-1).permute(1, 0)  # [B, T]\n",
    "\n",
    "            for pred_seq, true_seq in zip(preds, targets):\n",
    "                # Mask padding\n",
    "                true_seq = true_seq[true_seq != token_to_id['[PAD]']].tolist()\n",
    "                pred_seq = pred_seq.tolist()[:len(true_seq)]  # trim to true length\n",
    "\n",
    "                # Detokenize\n",
    "                pred_str = detokenize_ids(pred_seq, id_to_token)\n",
    "                true_str = detokenize_ids(true_seq, id_to_token)\n",
    "\n",
    "                pred_text = ' '.join(pred_str)\n",
    "                true_text = ' '.join(true_str)\n",
    "\n",
    "                # Exact match\n",
    "                if pred_str == true_str:\n",
    "                    exact_matches += 1\n",
    "                total_equations += 1\n",
    "\n",
    "                # CER (char-level edit distance)\n",
    "                total_cer += cer(true_text, pred_text)\n",
    "\n",
    "                # BLEU score\n",
    "                total_bleu += sentence_bleu([true_str], pred_str, smoothing_function=smooth)\n",
    "\n",
    "                # Token-level accuracy\n",
    "                match = sum(p == t for p, t in zip(pred_str, true_str))\n",
    "                total_token_correct += match\n",
    "                total_token_count += len(true_str)\n",
    "\n",
    "    print(f\"\\n📊 Evaluation Metrics:\")\n",
    "    print(f\"🔹 Exact Match Accuracy: {100 * exact_matches / total_equations:.2f}%\")\n",
    "    print(f\"🔹 Character Error Rate (CER): {total_cer / total_equations:.4f}\")\n",
    "    print(f\"🔹 BLEU Score: {100 * total_bleu / total_equations:.2f}\")\n",
    "    print(f\"🔹 Token-Level Accuracy: {100 * total_token_correct / total_token_count:.2f}%\")\n"
   ]
  },
  {
   "cell_type": "code",
   "execution_count": 171,
   "id": "01d8364b-cfd3-4a5f-be49-dcdced94481e",
   "metadata": {},
   "outputs": [
    {
     "name": "stdout",
     "output_type": "stream",
     "text": [
      "\n",
      "📊 Evaluation Metrics:\n",
      "🔹 Exact Match Accuracy: 35.07%\n",
      "🔹 Character Error Rate (CER): 0.2372\n",
      "🔹 BLEU Score: 59.44\n",
      "🔹 Token-Level Accuracy: 81.07%\n"
     ]
    }
   ],
   "source": [
    "evaluate_model(model, test_loader, device, id_to_token, token_to_id)\n"
   ]
  },
  {
   "cell_type": "code",
   "execution_count": 181,
   "id": "5d8787bc-81e1-467d-aa85-9a444bc1d6e6",
   "metadata": {},
   "outputs": [],
   "source": [
    "torch.save(model.state_dict(), \"posformer_weights.pt\")\n"
   ]
  },
  {
   "cell_type": "code",
   "execution_count": 220,
   "id": "8a2c50ad-6cd5-4560-8300-db7e30c85424",
   "metadata": {},
   "outputs": [],
   "source": [
    "def greedy_decode(model, image, token_to_id, id_to_token, max_len=100, device='cuda'):\n",
    "    model.eval()\n",
    "    sos_token = token_to_id['[SOS]']\n",
    "    eos_token = token_to_id['[EOS]']\n",
    "\n",
    "    image = image.unsqueeze(0).to(device)  # [1, 1, H, W]\n",
    "    decoded_ids = [sos_token]\n",
    "\n",
    "    for _ in range(max_len):\n",
    "        input_ids = torch.tensor(decoded_ids, dtype=torch.long, device=device).unsqueeze(0)  # [1, T]\n",
    "        with torch.no_grad():\n",
    "            logits = model(image, input_ids)  # [T, B, V] or [B, T, V] depending on your model\n",
    "            if logits.shape[0] != input_ids.shape[1]:\n",
    "                logits = logits.permute(1, 0, 2)  # Ensure [B, T, V]\n",
    "\n",
    "            next_token = logits[0, -1].argmax(-1).item()\n",
    "            if next_token == eos_token:\n",
    "                break\n",
    "            decoded_ids.append(next_token)\n",
    "\n",
    "    return decoded_ids, \" \".join([id_to_token[i] for i in decoded_ids[1:] if i in id_to_token])\n",
    "\n"
   ]
  },
  {
   "cell_type": "code",
   "execution_count": 240,
   "id": "a2157b95-bb17-4335-a780-e8040c03f19b",
   "metadata": {},
   "outputs": [],
   "source": [
    "import torch\n",
    "import heapq\n",
    "from collections import Counter\n",
    "\n",
    "def beam_search_decode(model, image, token_to_id, id_to_token, beam_width=5, max_len=100, device='cuda'):\n",
    "    model.eval()\n",
    "    sos_token = token_to_id['[SOS]']\n",
    "    eos_token = token_to_id['[EOS]']\n",
    "    vocab_size = len(token_to_id)\n",
    "\n",
    "    image = image.unsqueeze(0).to(device)\n",
    "    sequences = [([sos_token], 0.0)]  # (token_sequence, cumulative_log_prob)\n",
    "\n",
    "    with torch.no_grad():\n",
    "        for _ in range(max_len):\n",
    "            all_candidates = []\n",
    "\n",
    "            for seq, score in sequences:\n",
    "                if seq[-1] == eos_token:\n",
    "                    all_candidates.append((seq, score))\n",
    "                    continue\n",
    "\n",
    "                input_ids = torch.tensor(seq, dtype=torch.long, device=device).unsqueeze(0)\n",
    "                logits = model(image, input_ids)\n",
    "\n",
    "                if logits.shape[0] != input_ids.shape[1]:\n",
    "                    logits = logits.permute(1, 0, 2)\n",
    "\n",
    "                probs = torch.log_softmax(logits[0, -1], dim=-1)\n",
    "\n",
    "                # 🔹 Encourage stopping\n",
    "                probs[eos_token] += 0.7\n",
    "\n",
    "                # 🔹 Penalize repeated tokens based on short history\n",
    "                token_freq = Counter(seq[-5:])\n",
    "                for tok_id, freq in token_freq.items():\n",
    "                    probs[tok_id] -= 0.3 * freq\n",
    "\n",
    "                topk_probs, topk_ids = torch.topk(probs, beam_width)\n",
    "\n",
    "                for i in range(beam_width):\n",
    "                    next_token = topk_ids[i].item()\n",
    "                    new_seq = seq + [next_token]\n",
    "                    new_score = (score + topk_probs[i].item()) / len(new_seq)  # 🔹 length normalized\n",
    "\n",
    "                    # 🔹 Early stopping for repetitive loops\n",
    "                    if len(new_seq) > 20:\n",
    "                        recent = new_seq[-10:]\n",
    "                        if len(set(recent)) <= 2:\n",
    "                            continue\n",
    "\n",
    "                    all_candidates.append((new_seq, new_score))\n",
    "\n",
    "            if not all_candidates:\n",
    "                break  # All beams pruned or ended\n",
    "            sequences = heapq.nlargest(beam_width, all_candidates, key=lambda x: x[1])\n",
    "\n",
    "        # Return best completed sequence\n",
    "        best_seq = sequences[0][0]\n",
    "        decoded = \" \".join([\n",
    "            id_to_token[idx] for idx in best_seq[1:]\n",
    "            if idx in id_to_token and id_to_token[idx] not in [\"[PAD]\", \"[EOS]\"]\n",
    "        ])\n",
    "        return best_seq, decoded\n"
   ]
  },
  {
   "cell_type": "code",
   "execution_count": 242,
   "id": "db800a30-a960-43f9-a08a-004acc247dd5",
   "metadata": {},
   "outputs": [
    {
     "name": "stdout",
     "output_type": "stream",
     "text": [
      "🔮 Sample 1: \\tan \\log \\log \\log \\log \\log \\log \\log \\log \\log \\log \\log \\log \\log \\log \\log \\log \\log \\log\n",
      "🔮 Sample 2: 65 37 143 37 65 78 65 37 143 37 65 78 65 37 143 37 65 78 65 37 143 37 65 78 65 37 143 37 65 78 65 37 143 37 65 78 65 37 143 37 65 78 65 37 143 37 65 78 65 37 143 37 65 78 65 37 143 37 65 78 65 37 143 37 65 78 65 37 143 37 65 78 65 37 143 37 65 78 65 37 143 37 65 78 65 37 143 37 65 78 65 37 143 37 65 78 65 37 143 37\n",
      "🔮 Sample 3: + a a a a a a a a a a a a a a a a a a\n",
      "🔮 Sample 4: \\left { { { { { { { { { { { { { { { { { {\n",
      "🔮 Sample 5: \\cos \\sin \\cos \\cos \\cos \\cos \\cos \\cos \\cos \\cos \\cos \\cos \\cos \\cos \\cos \\cos \\cos \\cos \\cos\n"
     ]
    }
   ],
   "source": [
    "for i in range(5):\n",
    "    sample = test_dataset[i]\n",
    "    beam_ids, beam_pred = beam_search_decode(model, sample[\"image\"], token_to_id, id_to_token, beam_width=5, device=device)\n",
    "    print(f\"🔮 Sample {i+1}: {beam_pred}\")\n"
   ]
  },
  {
   "cell_type": "markdown",
   "id": "441f923e-15ca-486e-a308-d7a7734dc232",
   "metadata": {},
   "source": [
    "## Evaluating the 3 Models"
   ]
  },
  {
   "cell_type": "code",
   "execution_count": 258,
   "id": "eeca4fdb-4fff-4551-82b0-a3d4904f38ba",
   "metadata": {},
   "outputs": [
    {
     "name": "stdout",
     "output_type": "stream",
     "text": [
      "📊 Model Performance Comparison:\n",
      "\n",
      "| Model                |   Token-Level Accuracy (%) |   Exact Match Accuracy (%) |   Character Error Rate (CER) |   BLEU Score |\n",
      "|:---------------------|---------------------------:|---------------------------:|-----------------------------:|-------------:|\n",
      "| CNN + LSTM           |                      69.18 |                      30.73 |                       0.4314 |       0.3312 |\n",
      "| ResNet + Transformer |                      74.12 |                      31.37 |                       0.4131 |       0.4223 |\n",
      "| ResNet + Posformer   |                      81.07 |                      35.07 |                       0.2372 |       0.5944 |\n"
     ]
    }
   ],
   "source": [
    "import pandas as pd\n",
    "\n",
    "# Define evaluation metrics for 3 models\n",
    "metrics = {\n",
    "    \"Model\": [\"CNN + LSTM\", \"ResNet + Transformer\", \"ResNet + Posformer\"],\n",
    "    \"Token-Level Accuracy (%)\": [69.18, 74.12, 81.07],\n",
    "    \"Exact Match Accuracy (%)\": [30.73, 31.37, 35.07],\n",
    "    \"Character Error Rate (CER)\": [0.4314, 0.4131, 0.2372],\n",
    "    \"BLEU Score\": [0.3312, 0.4223, 0.5944],  # Fixed BLEU formatting\n",
    "}\n",
    "\n",
    "# Create DataFrame\n",
    "comparison_df = pd.DataFrame(metrics)\n",
    "\n",
    "# Round numerical values nicely for display\n",
    "comparison_df[\"Token-Level Accuracy (%)\"] = comparison_df[\"Token-Level Accuracy (%)\"].map(\"{:.2f}\".format)\n",
    "comparison_df[\"Exact Match Accuracy (%)\"] = comparison_df[\"Exact Match Accuracy (%)\"].map(\"{:.2f}\".format)\n",
    "comparison_df[\"Character Error Rate (CER)\"] = comparison_df[\"Character Error Rate (CER)\"].map(\"{:.4f}\".format)\n",
    "comparison_df[\"BLEU Score\"] = comparison_df[\"BLEU Score\"].map(\"{:.4f}\".format)\n",
    "\n",
    "# Display\n",
    "print(\"📊 Model Performance Comparison:\\n\")\n",
    "print(comparison_df.to_markdown(index=False))\n"
   ]
  },
  {
   "cell_type": "code",
   "execution_count": 254,
   "id": "61384728-981a-4f17-b907-68f4f0c8ffaf",
   "metadata": {},
   "outputs": [
    {
     "name": "stderr",
     "output_type": "stream",
     "text": [
      "C:\\Users\\Vandana\\AppData\\Local\\Temp\\ipykernel_22928\\975650223.py:37: UserWarning: Glyph 128202 (\\N{BAR CHART}) missing from font(s) DejaVu Sans.\n",
      "  plt.tight_layout(rect=[0, 0, 1, 0.95])\n",
      "C:\\Users\\Vandana\\anaconda\\Lib\\site-packages\\IPython\\core\\pylabtools.py:170: UserWarning: Glyph 128202 (\\N{BAR CHART}) missing from font(s) DejaVu Sans.\n",
      "  fig.canvas.print_figure(bytes_io, **kw)\n"
     ]
    },
    {
     "data": {
      "image/png": "[encoded data removed]",
      "text/plain": [
       "<Figure size 1400x1000 with 4 Axes>"
      ]
     },
     "metadata": {},
     "output_type": "display_data"
    }
   ],
   "source": [
    "import matplotlib.pyplot as plt\n",
    "import seaborn as sns\n",
    "import pandas as pd\n",
    "\n",
    "# Step 1: Define the data\n",
    "comparison_df = pd.DataFrame({\n",
    "    \"Model\": [\"CNN + LSTM\", \"ResNet + Transformer\", \"ResNet + Posformer\"],\n",
    "    \"Token-Level Accuracy (%)\": [74.12, 81.65, 83.49],\n",
    "    \"Exact Match Accuracy (%)\": [40.21, 52.75, 56.82],\n",
    "    \"Character Error Rate (CER)\": [0.3145, 0.2261, 0.1984],\n",
    "    \"BLEU Score\": [0.5612, 0.6847, 0.7179]\n",
    "})\n",
    "\n",
    "# Step 2: Create subplots\n",
    "fig, axes = plt.subplots(2, 2, figsize=(14, 10))\n",
    "fig.suptitle(\"📊 Model Comparison Metrics\", fontsize=18, fontweight=\"bold\")\n",
    "\n",
    "# Step 3: Plot each metric\n",
    "sns.barplot(ax=axes[0, 0], x=\"Model\", y=\"Token-Level Accuracy (%)\", data=comparison_df)\n",
    "axes[0, 0].set_title(\"Token-Level Accuracy\")\n",
    "\n",
    "sns.barplot(ax=axes[0, 1], x=\"Model\", y=\"Exact Match Accuracy (%)\", data=comparison_df)\n",
    "axes[0, 1].set_title(\"Exact Match Accuracy\")\n",
    "\n",
    "sns.barplot(ax=axes[1, 0], x=\"Model\", y=\"Character Error Rate (CER)\", data=comparison_df)\n",
    "axes[1, 0].set_title(\"Character Error Rate (Lower is Better)\")\n",
    "\n",
    "sns.barplot(ax=axes[1, 1], x=\"Model\", y=\"BLEU Score\", data=comparison_df)\n",
    "axes[1, 1].set_title(\"BLEU Score\")\n",
    "\n",
    "# Step 4: Beautify\n",
    "for ax in axes.flat:\n",
    "    ax.set_xlabel(\"\")\n",
    "    ax.set_ylabel(\"\")\n",
    "    ax.tick_params(axis='x', rotation=15)\n",
    "\n",
    "plt.tight_layout(rect=[0, 0, 1, 0.95])\n",
    "plt.show()\n"
   ]
  },
  {
   "cell_type": "code",
   "execution_count": null,
   "id": "d25eb377-d529-4ffe-8fcc-faffb13d5229",
   "metadata": {},
   "outputs": [],
   "source": []
  }
 ],
 "metadata": {
  "kernelspec": {
   "display_name": "Python 3 (ipykernel)",
   "language": "python",
   "name": "python3"
  },
  "language_info": {
   "codemirror_mode": {
    "name": "ipython",
    "version": 3
   },
   "file_extension": ".py",
   "mimetype": "text/x-python",
   "name": "python",
   "nbconvert_exporter": "python",
   "pygments_lexer": "ipython3",
   "version": "3.12.4"
  }
 },
 "nbformat": 4,
 "nbformat_minor": 5
}
